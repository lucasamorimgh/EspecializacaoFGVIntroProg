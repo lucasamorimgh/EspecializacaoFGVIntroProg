{
  "nbformat": 4,
  "nbformat_minor": 0,
  "metadata": {
    "colab": {
      "provenance": []
    },
    "kernelspec": {
      "name": "python3",
      "display_name": "Python 3"
    },
    "language_info": {
      "name": "python"
    }
  },
  "cells": [
    {
      "cell_type": "code",
      "execution_count": null,
      "metadata": {
        "colab": {
          "base_uri": "https://localhost:8080/"
        },
        "id": "QBP1Q-rXiSGL",
        "outputId": "53430937-a52a-47d7-c198-954ae36945db"
      },
      "outputs": [
        {
          "output_type": "execute_result",
          "data": {
            "text/plain": [
              "121.55"
            ]
          },
          "metadata": {},
          "execution_count": 1
        }
      ],
      "source": [
        "#Lista 02 Parte 1 Questao 1\n",
        "def future_value(pv, r, n, t):\n",
        "  \"\"\"\n",
        "  Função que calcula o valor futuro.\n",
        "\n",
        "  Args:\n",
        "    pv (float): valor presente\n",
        "    r (float): juros anual\n",
        "    n (int): número de capitalizações por ano\n",
        "    t (float): número de horizontes no ano\n",
        "\n",
        "  Returns:\n",
        "    float: valor futuro\n",
        "\n",
        "  Example:\n",
        "    >>> future_value(100,0.1,2,2)\n",
        "    121.55\n",
        "  \"\"\"\n",
        "  futurevalue = pv * (1 + r/n) ** (n*t)\n",
        "\n",
        "  return futurevalue.__round__(2)\n",
        "\n",
        "future_value(100,0.1,2,2)"
      ]
    },
    {
      "cell_type": "code",
      "source": [
        "#Lista 02 Parte 1 Questao 2\n",
        "def standard_deviation(returns):\n",
        "  \"\"\"\n",
        "    Função que calcula o desvio padrão populacional.\n",
        "\n",
        "  Args:\n",
        "    returns (list): lista de retornos observados (float)\n",
        "\n",
        "  Returns:\n",
        "    float: desvio padrão populacional dos retornos observados\n",
        "\n",
        "  Example:\n",
        "    >>> standard_deviation([0.1,0.2])\n",
        "    0.05\n",
        "  \"\"\"\n",
        "  #número de observações\n",
        "  N = len(returns)\n",
        "\n",
        "  #media dos retornos\n",
        "  sum = 0\n",
        "  for x in returns:\n",
        "    sum += x\n",
        "  xbar = sum / N\n",
        "\n",
        "  #variancia populacional\n",
        "  sum2 = 0\n",
        "  for x in returns:\n",
        "    sum2 += (x - xbar)**2\n",
        "  var = sum2 / N\n",
        "  desvpad = (var)**0.5\n",
        "\n",
        "  return desvpad\n",
        "\n",
        "standard_deviation([0.1,0.2])\n"
      ],
      "metadata": {
        "colab": {
          "base_uri": "https://localhost:8080/"
        },
        "id": "gPpCWZB7ybOu",
        "outputId": "e232fe9f-97f6-4275-dcfb-c8f4c275dd37"
      },
      "execution_count": null,
      "outputs": [
        {
          "output_type": "execute_result",
          "data": {
            "text/plain": [
              "0.05"
            ]
          },
          "metadata": {},
          "execution_count": 2
        }
      ]
    },
    {
      "cell_type": "code",
      "source": [
        "#Lista 02 Parte 1 Questao 3\n",
        "import math\n",
        "\n",
        "def time_to_double(r):\n",
        "  \"\"\"\n",
        "    Função que calcula o tempo que um capital demora a debobrar mediante juros r.\n",
        "\n",
        "  Args:\n",
        "    r (float): taxa de juros em dado período (eg, anualizada)\n",
        "\n",
        "  Returns:\n",
        "    float: tempo que um capital demora a debobrar, em quantidades do período dado (eg, número de anos)\n",
        "\n",
        "  Example:\n",
        "    >>> time_to_double(0.1)\n",
        "    7.27\n",
        "  \"\"\"\n",
        "\n",
        "  #calcula o doubling time\n",
        "  t = math.log(2) / math.log(1+r)\n",
        "\n",
        "  return t.__round__(2)\n",
        "\n",
        "time_to_double(0.1)"
      ],
      "metadata": {
        "colab": {
          "base_uri": "https://localhost:8080/"
        },
        "id": "843Kubef3P5f",
        "outputId": "a8782a67-06c9-4d6a-ca98-91253c964fd1"
      },
      "execution_count": null,
      "outputs": [
        {
          "output_type": "execute_result",
          "data": {
            "text/plain": [
              "7.27"
            ]
          },
          "metadata": {},
          "execution_count": 3
        }
      ]
    },
    {
      "cell_type": "code",
      "source": [
        "#Lista 02 Parte 2 Questao 1\n",
        "import itertools\n",
        "\n",
        "def portfolio_combinations(assets, k):\n",
        "  \"\"\"\n",
        "    Função que retorna a lista de k-combinações dentre os ativos listados em assets.\n",
        "\n",
        "  Args:\n",
        "    assets (list): lista de ativos (strings)\n",
        "    k (int): tamanho dos subconjuntos de interesse\n",
        "\n",
        "  Returns:\n",
        "    list: lista de k-combinações dentre os ativos listados em assets\n",
        "\n",
        "  Example:\n",
        "    >>> portfolio_combinations([\"PETR3\",\"PETR4\",\"ABEV3\",\"VALE3\"],3)\n",
        "    [('PETR3', 'PETR4', 'ABEV3'), ('PETR3', 'PETR4', 'VALE3'), ('PETR3', 'ABEV3', 'VALE3'), ('PETR4', 'ABEV3', 'VALE3')]\n",
        "  \"\"\"\n",
        "\n",
        "  return list(itertools.combinations(assets,k))\n",
        "\n",
        "portfolio_combinations([\"PETR3\",\"PETR4\",\"ABEV3\",\"VALE3\"],3)"
      ],
      "metadata": {
        "colab": {
          "base_uri": "https://localhost:8080/"
        },
        "id": "OK8R_Epg6027",
        "outputId": "ca5cbda3-f986-4dbe-a58c-da243d089b5c"
      },
      "execution_count": null,
      "outputs": [
        {
          "output_type": "execute_result",
          "data": {
            "text/plain": [
              "[('PETR3', 'PETR4', 'ABEV3'),\n",
              " ('PETR3', 'PETR4', 'VALE3'),\n",
              " ('PETR3', 'ABEV3', 'VALE3'),\n",
              " ('PETR4', 'ABEV3', 'VALE3')]"
            ]
          },
          "metadata": {},
          "execution_count": 4
        }
      ]
    },
    {
      "cell_type": "code",
      "source": [
        "#Lista 02 Parte 2 Questao 2\n",
        "from collections import deque\n",
        "from itertools import islice\n",
        "\n",
        "#Obtido da documentação do itertools\n",
        "def sliding_window(iterable, n):\n",
        "    \"Collect data into overlapping fixed-length chunks or blocks.\"\n",
        "    # sliding_window('ABCDEFG', 4) → ABCD BCDE CDEF DEFG\n",
        "    iterator = iter(iterable)\n",
        "    window = deque(islice(iterator, n - 1), maxlen=n)\n",
        "    for x in iterator:\n",
        "        window.append(x)\n",
        "        yield tuple(window)\n",
        "\n",
        "#Media\n",
        "def media(lista):\n",
        "  \"\"\"\n",
        "  Função que retorna a média de uma lista numérica\n",
        "\n",
        "  Args:\n",
        "    lista (list): lista de números (floats)\n",
        "\n",
        "  Returns:\n",
        "    float: média da lista numérica\n",
        "  \"\"\"\n",
        "\n",
        "  #número de observações\n",
        "  N = len(lista)\n",
        "\n",
        "  #media\n",
        "  sum = 0\n",
        "  for x in lista:\n",
        "    sum += x\n",
        "\n",
        "  if N > 0:\n",
        "    xbar = sum / N\n",
        "  else:\n",
        "    xbar = None\n",
        "\n",
        "  return xbar\n",
        "\n",
        "def moving_average(prices, window):\n",
        "  \"\"\"\n",
        "  Função que retorna as médias móveis de tamanho \"window\" sobre a lista \"prices\"\n",
        "\n",
        "  Args:\n",
        "    prices (list): lista de preços ordenados no tempo (floats)\n",
        "    window (int): tamanho da janela móvel\n",
        "\n",
        "  Returns:\n",
        "    list: lista das médias móveis (floats)\n",
        "\n",
        "    Example:\n",
        "    >>> moving_average([100,102,101,103], 3)\n",
        "    [101.0, 102.0]\n",
        "  \"\"\"\n",
        "  medias = []\n",
        "  for tupla in sliding_window(prices, window):\n",
        "    medias.append(media(tupla))\n",
        "\n",
        "  return medias\n",
        "\n",
        "moving_average([100,102,101,103], 3)"
      ],
      "metadata": {
        "colab": {
          "base_uri": "https://localhost:8080/"
        },
        "id": "V25KkaB-_m1O",
        "outputId": "f9ecf847-69ce-4ce0-ba73-1ac65c31866c"
      },
      "execution_count": null,
      "outputs": [
        {
          "output_type": "execute_result",
          "data": {
            "text/plain": [
              "[101.0, 102.0]"
            ]
          },
          "metadata": {},
          "execution_count": 8
        }
      ]
    },
    {
      "cell_type": "code",
      "source": [
        "#Lista 02 Parte 3 Questao 1\n",
        "import random\n",
        "\n",
        "def simulate_stock_price(initial_price, mu, sigma, days):\n",
        "  \"\"\"\n",
        "  Função que retorna uma lista com \"initial_price\" seguido de tantos dias de simulação quanto em \"days\",\n",
        "  com incrementos normais com média \"mu\" e desvio padrão \"sigma\"\n",
        "  Resultado aleatório.\n",
        "\n",
        "  Args:\n",
        "    initial_price (float): preço inicial\n",
        "    mu (float): media do incremento normal\n",
        "    sigma (float): desvio padrão do incremento normal, deve ser não negativo\n",
        "    days (int): número de dias no horizonte de risco\n",
        "\n",
        "  Returns:\n",
        "    list: lista com initial_price seguindo dos preços simulados\n",
        "  \"\"\"\n",
        "\n",
        "  precos = [initial_price]\n",
        "  for i in range(days):\n",
        "    novopreco = precos[i] + random.gauss(mu,sigma)\n",
        "    precos.append(novopreco.__round__(2))\n",
        "\n",
        "  return precos\n",
        "\n",
        "simulate_stock_price(100,0,1,5)"
      ],
      "metadata": {
        "colab": {
          "base_uri": "https://localhost:8080/"
        },
        "id": "QlGMAWxPStjC",
        "outputId": "2609b5b4-8189-48bd-feb0-a5a095f44c2f"
      },
      "execution_count": null,
      "outputs": [
        {
          "output_type": "execute_result",
          "data": {
            "text/plain": [
              "[100, 99.98, 99.43, 99.4, 99.22, 99.65]"
            ]
          },
          "metadata": {},
          "execution_count": 16
        }
      ]
    },
    {
      "cell_type": "code",
      "source": [
        "#Lista 02 Parte 4 Questao 1\n",
        "import urllib\n",
        "import os\n",
        "import csv\n",
        "\n",
        "def download_and_merge(years_quarters, output_file):\n",
        "  \"\"\"\n",
        "  Função que baixa e concatena os csvs da BLS QCEW para os períodos indicados e salva na root\n",
        "\n",
        "  Args:\n",
        "    years_quarters (list): lista de anos e quarters, no formato [(2024, 1), (2024, 2)]\n",
        "    output_file (string): nome do arquivo destino, no formato nome.csv\n",
        "  \"\"\"\n",
        "\n",
        "  #limpa/cria diretório \"data\"\n",
        "  if not os.path.isdir(\"data\"):\n",
        "    os.makedirs(\"data\")\n",
        "  for f in os.listdir(\"data\"):\n",
        "    os.remove(f\"data/{f}\")\n",
        "  if os.path.exists(output_file):\n",
        "    os.remove(output_file)\n",
        "\n",
        "  #percorre as periodos indicados e coleta os dados\n",
        "  for year_quarter in years_quarters:\n",
        "    year = year_quarter[0]\n",
        "    quarter = year_quarter[1]\n",
        "    url = f\"https://data.bls.gov/cew/data/api/{year}/{quarter}/industry/10.csv\"\n",
        "    urllib.request.urlretrieve(url,f\"data/{year}_q{quarter}.csv\")\n",
        "\n",
        "  output = []\n",
        "\n",
        "  #lista de arquivos no diretório \"data\"\n",
        "  arxivs = os.listdir(\"data\")\n",
        "  arxivs.sort\n",
        "\n",
        "  #abre cada arquivo e junta seu conteudo em \"output\", sendo apenas o primeiro com header\n",
        "  for f in enumerate(arxivs):\n",
        "    with open(f\"data/{f[1]}\", 'r') as csv_origem: #sessão para leitura de csv\n",
        "      leitor_csv = csv.reader(csv_origem) #objeto leitor de csv\n",
        "      if f[0] == 0:\n",
        "        for linha in leitor_csv:\n",
        "          output.append(linha)\n",
        "      else:\n",
        "        next(leitor_csv) #pula a primeira linha (header) do csv\n",
        "        for linha in leitor_csv:\n",
        "          output.append(linha)\n",
        "\n",
        "  #salva o conteudo de \"output\" como csv no output_file\n",
        "  with open(output_file, 'w', newline='') as csv_destino:\n",
        "      writer = csv.writer(csv_destino)\n",
        "      writer.writerows(output)\n",
        "\n",
        "download_and_merge([(2024, 1), (2024, 2)], \"resultadofinal.csv\")"
      ],
      "metadata": {
        "id": "ShnxjsjGX6w7"
      },
      "execution_count": null,
      "outputs": []
    }
  ]
}