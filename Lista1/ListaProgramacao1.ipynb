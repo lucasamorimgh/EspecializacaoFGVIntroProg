{
  "nbformat": 4,
  "nbformat_minor": 0,
  "metadata": {
    "colab": {
      "provenance": []
    },
    "kernelspec": {
      "name": "python3",
      "display_name": "Python 3"
    },
    "language_info": {
      "name": "python"
    }
  },
  "cells": [
    {
      "cell_type": "code",
      "execution_count": null,
      "metadata": {
        "colab": {
          "base_uri": "https://localhost:8080/"
        },
        "id": "QBP1Q-rXiSGL",
        "outputId": "755d682b-148d-4c6d-82c4-009711c5b09a"
      },
      "outputs": [
        {
          "output_type": "execute_result",
          "data": {
            "text/plain": [
              "[[2, 4, 6], [3, 7]]"
            ]
          },
          "metadata": {},
          "execution_count": 12
        }
      ],
      "source": [
        "#Lista 01 Parte 1 Questao 1\n",
        "def pares_e_impares(nums):\n",
        "  pares = []\n",
        "  impares = []\n",
        "\n",
        "  #Pecorre cada numero da lista nums e appenda na lista correta\n",
        "  for n in nums:\n",
        "    if n % 2 == 0:\n",
        "      pares.append(n)\n",
        "    else:\n",
        "      impares.append(n)\n",
        "  return [pares,impares]\n",
        "\n",
        "pares_e_impares([2,3,4,6,7])"
      ]
    },
    {
      "cell_type": "code",
      "source": [
        "#Lista 01 Parte 1 Questao 2\n",
        "def filtrar_por_tamanho(lista,k):\n",
        "  resultado = []\n",
        "\n",
        "  #Pecorre cada palavra da lista e appenda no resultado se satisfeita a condição de tamanho\n",
        "  for palavra in lista:\n",
        "    if len(palavra) > k:\n",
        "      resultado.append(palavra)\n",
        "\n",
        "  return resultado\n",
        "\n",
        "filtrar_por_tamanho([\"tupiniquim\",\"ovo\",\"oblongo\", \"oi\"],3)"
      ],
      "metadata": {
        "colab": {
          "base_uri": "https://localhost:8080/"
        },
        "id": "IypkTv0L-hMy",
        "outputId": "22e4a697-b30e-403b-da94-8247b490857e"
      },
      "execution_count": null,
      "outputs": [
        {
          "output_type": "execute_result",
          "data": {
            "text/plain": [
              "['tupiniquim', 'oblongo']"
            ]
          },
          "metadata": {},
          "execution_count": 9
        }
      ]
    },
    {
      "cell_type": "code",
      "source": [
        "#Lista 01 Parte 1 Questao 3\n",
        "def rotate_tuple(tpl,n):\n",
        "  rot_list = list(tpl)\n",
        "\n",
        "  #percorre cada indice de tpl e o reatribui shiftado em rot_list\n",
        "  for i in range(len(tpl)):\n",
        "    rot_list[(i+n) % len(tpl)] = tpl[i]\n",
        "  return tuple(rot_list)\n",
        "\n",
        "rotate_tuple((1,2,3,4,5), 7)"
      ],
      "metadata": {
        "colab": {
          "base_uri": "https://localhost:8080/"
        },
        "id": "c9x6qUXf_rCk",
        "outputId": "03abf47e-9a06-4a5d-9f7c-a6eed662ac2f"
      },
      "execution_count": null,
      "outputs": [
        {
          "output_type": "execute_result",
          "data": {
            "text/plain": [
              "(4, 5, 1, 2, 3)"
            ]
          },
          "metadata": {},
          "execution_count": 20
        }
      ]
    },
    {
      "cell_type": "code",
      "source": [
        "#Lista 01 Parte 1 Questao 4\n",
        "\n",
        "def transpose(matrix):\n",
        "  #define dimensões\n",
        "  d_lin = len(matrix)\n",
        "  d_col = len(matrix[0])\n",
        "\n",
        "  #define matriz m com dimensões da transposta\n",
        "  m = []\n",
        "  for j in range(d_col):\n",
        "    m.append(list(\"a\"*d_lin))\n",
        "\n",
        "  ##alternativamente, se fosse m definido como abaixo, daria problema, pois todas as entradas de m seriam identicas na memoria\n",
        "  ##e não daria para altera-las entrada por entrada, alterar uma entrada em um faz identico nas demais\n",
        "  #l =  list(\"a\"*d_lin)\n",
        "  #m = list([l]*d_col)\n",
        "\n",
        "  #ajusta as entradas de m\n",
        "  for i in range(d_lin):\n",
        "    for j in range(d_col):\n",
        "      m[j][i] = matrix[i][j]\n",
        "\n",
        "  return m\n",
        "\n",
        "transpose(((1,2,3),(4,5,6)))"
      ],
      "metadata": {
        "colab": {
          "base_uri": "https://localhost:8080/"
        },
        "id": "NfGNNEibKcs4",
        "outputId": "ac45f318-e8ce-4154-e6c4-570b7b48a719"
      },
      "execution_count": null,
      "outputs": [
        {
          "output_type": "execute_result",
          "data": {
            "text/plain": [
              "[[1, 4], [2, 5], [3, 6]]"
            ]
          },
          "metadata": {},
          "execution_count": 11
        }
      ]
    },
    {
      "cell_type": "code",
      "source": [
        "#Lista 01 Parte 1 Questao 5\n",
        "\n",
        "def flatten(lst):\n",
        "  flatlst = []\n",
        "\n",
        "  #percorre cada elemento de lst, se não for lista, appenda, se for a função é chamada em recorrencia\n",
        "  for e in lst:\n",
        "    if type(e) != type([]):\n",
        "      flatlst.append(e)\n",
        "    else:\n",
        "      #o resultado da função chamada em recorrencia é uma lista, logo somamo-lo e não appendamo-lo\n",
        "      flatlst = flatlst + flatten(e)\n",
        "  return flatlst\n",
        "\n",
        "flatten([\"a\",\"b\",[\"c\"],[\"d\",[\"e\"]]])"
      ],
      "metadata": {
        "colab": {
          "base_uri": "https://localhost:8080/"
        },
        "id": "Og9BzUcrhwCL",
        "outputId": "fb51cf01-f0c8-4654-8f11-92980b083e3c"
      },
      "execution_count": null,
      "outputs": [
        {
          "output_type": "execute_result",
          "data": {
            "text/plain": [
              "['a', 'b', 'c', 'd', 'e']"
            ]
          },
          "metadata": {},
          "execution_count": 126
        }
      ]
    },
    {
      "cell_type": "code",
      "source": [
        "#Lista 01 Parte 2 Questao 1\n",
        "\n",
        "def group_by(pairs):\n",
        "  #forma as keys\n",
        "  keys = []\n",
        "  for p in pairs:\n",
        "    if p[0] not in keys:\n",
        "      keys.append(p[0])\n",
        "\n",
        "  #forma a lista base do dicionario\n",
        "  dct = []\n",
        "  for k in keys:\n",
        "    #para cada key, revisita pairs e appenda as entradas associadas para formar values_k\n",
        "    values_k = []\n",
        "    for p in pairs:\n",
        "      if p[0] == k:\n",
        "        values_k.append(p[1])\n",
        "    #o par (k,values_k) é appendado no dct\n",
        "    dct.append((k,values_k))\n",
        "\n",
        "  return(dict(dct))\n",
        "\n",
        "group_by([(\"A\", 1), (\"B\", 1), (\"C\", 3), (\"A\", 4)])"
      ],
      "metadata": {
        "colab": {
          "base_uri": "https://localhost:8080/"
        },
        "id": "-ZcUPf-1ijXr",
        "outputId": "b4d0743e-6f43-4335-fa1e-f898d88c0254"
      },
      "execution_count": null,
      "outputs": [
        {
          "output_type": "execute_result",
          "data": {
            "text/plain": [
              "{'A': [1, 4], 'B': [1], 'C': [3]}"
            ]
          },
          "metadata": {},
          "execution_count": 142
        }
      ]
    },
    {
      "cell_type": "code",
      "source": [
        "#Lista 01 Parte 2 Questao 2\n",
        "def invert_map(d):\n",
        "  dct = []\n",
        "\n",
        "  #percorre os itens da lista, inverte-os e appenda em dct\n",
        "  for e in d.items():\n",
        "    dct.append((e[1],e[0]))\n",
        "\n",
        "  return dict(dct)\n",
        "\n",
        "invert_map({\"ano\": 1992, \"altura\": 178, \"nome\": \"Lucas\"})"
      ],
      "metadata": {
        "colab": {
          "base_uri": "https://localhost:8080/"
        },
        "id": "KqHlzy5Bqy7d",
        "outputId": "bffa5d19-709b-47c7-aa00-b7ffaacab4b5"
      },
      "execution_count": null,
      "outputs": [
        {
          "output_type": "execute_result",
          "data": {
            "text/plain": [
              "{1992: 'ano', 178: 'altura', 'Lucas': 'nome'}"
            ]
          },
          "metadata": {},
          "execution_count": 146
        }
      ]
    },
    {
      "cell_type": "code",
      "source": [
        "#Lista 01 Parte 2 Questao 3\n",
        "def indices_of(lst):\n",
        "\n",
        "  #entradas unicas de lst\n",
        "  lst_unique = []\n",
        "  for e in lst:\n",
        "    if e not in lst_unique:\n",
        "      lst_unique.append(e)\n",
        "\n",
        "  dct = []\n",
        "  for u in lst_unique:\n",
        "    #para cada entrada unica u em lst_unique, definimos values_u, a lista de indices onde lst vale u\n",
        "    values_u = []\n",
        "    for i in range(len(lst)):\n",
        "      if lst[i] == u:\n",
        "        values_u.append(i)\n",
        "    #juntamos os pares (u,values_u) em dct\n",
        "    dct.append((u,values_u))\n",
        "\n",
        "  return dict(dct)\n",
        "\n",
        "indices_of([\"oi\",\"oi\",\"xau\"])"
      ],
      "metadata": {
        "colab": {
          "base_uri": "https://localhost:8080/"
        },
        "id": "IfQV1qezwyTg",
        "outputId": "ff1f889e-03ac-4fa6-f8cd-348450f228b8"
      },
      "execution_count": null,
      "outputs": [
        {
          "output_type": "execute_result",
          "data": {
            "text/plain": [
              "{'oi': [0, 1], 'xau': [2]}"
            ]
          },
          "metadata": {},
          "execution_count": 152
        }
      ]
    },
    {
      "cell_type": "code",
      "source": [
        "#Lista 01 Parte 2 Questao 4\n",
        "def merge_dicts(dicts):\n",
        "\n",
        "  #reune em allkeys todas as keys de todos os dicionarios\n",
        "  allkeys = []\n",
        "  for dct in dicts:\n",
        "    for k in dct.keys():\n",
        "      allkeys.append(k)\n",
        "\n",
        "  #toma as entradas unicas de allkeys\n",
        "  allkeys_unique = []\n",
        "  for e in allkeys:\n",
        "    if e not in allkeys_unique:\n",
        "      allkeys_unique.append(e)\n",
        "\n",
        "  #para cada entrada de allkeys_unique, percorre todos os dicionarios e todos seus valores, e vai somando quando a key bate\n",
        "  dct_new = []\n",
        "  for u in allkeys_unique:\n",
        "    sum_u = 0\n",
        "    for dct in dicts:\n",
        "      for i in dct.items():\n",
        "        if i[0] == u:\n",
        "          sum_u = sum_u + i[1]\n",
        "    dct_new.append((u,sum_u))\n",
        "\n",
        "  return dict(dct_new)\n",
        "\n",
        "merge_dicts([{\"A\": 1, \"B\": 1, \"C\": 3}, {\"A\": 4, \"B\": -4, \"D\": 2}] )"
      ],
      "metadata": {
        "colab": {
          "base_uri": "https://localhost:8080/"
        },
        "id": "tjVkpgGI3NbY",
        "outputId": "6def36d2-cb35-4e47-de03-6554d36068c5"
      },
      "execution_count": null,
      "outputs": [
        {
          "output_type": "execute_result",
          "data": {
            "text/plain": [
              "{'A': 5, 'B': -3, 'C': 3, 'D': 2}"
            ]
          },
          "metadata": {},
          "execution_count": 157
        }
      ]
    },
    {
      "cell_type": "code",
      "source": [
        "#Lista 01 Parte 2 Questao 5\n",
        "\n",
        "def conta_digitos(n):\n",
        "  #transforma numero em lista\n",
        "  lst = list(str(abs(n)))\n",
        "\n",
        "  #pega digitos unicos do numero\n",
        "  lst_unique = []\n",
        "  for e in lst:\n",
        "    if e not in lst_unique:\n",
        "      lst_unique.append(e)\n",
        "  lst_unique.sort()\n",
        "\n",
        "  #para cada digito unico, conta quantas ocorrencias\n",
        "  result = []\n",
        "  for u in lst_unique:\n",
        "    u_count = 0\n",
        "    for e in lst:\n",
        "      if e == u:\n",
        "        u_count = u_count + 1\n",
        "    result.append((u,u_count))\n",
        "\n",
        "  return result\n",
        "\n",
        "conta_digitos(-9237638111)"
      ],
      "metadata": {
        "colab": {
          "base_uri": "https://localhost:8080/"
        },
        "id": "a5MaX8Pw7LWz",
        "outputId": "ffd8eadf-d938-43d8-cd6b-ef113b21099d"
      },
      "execution_count": null,
      "outputs": [
        {
          "output_type": "execute_result",
          "data": {
            "text/plain": [
              "[('1', 3), ('2', 1), ('3', 2), ('6', 1), ('7', 1), ('8', 1), ('9', 1)]"
            ]
          },
          "metadata": {},
          "execution_count": 167
        }
      ]
    },
    {
      "cell_type": "code",
      "source": [
        "#Lista 01 Parte 3 Questao 1\n",
        "\n",
        "#funcção que pega uma string e retorna suas letras e ocorrências de suas letras\n",
        "def contagem_letras(str):\n",
        "  lst = list(str)\n",
        "  #pega digitos unicos do numero\n",
        "  lst_unique = []\n",
        "  for e in lst:\n",
        "    if e not in lst_unique:\n",
        "      lst_unique.append(e)\n",
        "  lst_unique.sort()\n",
        "\n",
        "  #para cada digito unico, conta quantas ocorrencias\n",
        "  result = []\n",
        "  for u in lst_unique:\n",
        "    u_count = 0\n",
        "    for e in lst:\n",
        "      if e == u:\n",
        "        u_count = u_count + 1\n",
        "    result.append((u,u_count))\n",
        "\n",
        "  return result\n",
        "\n",
        "#funçao que pega uma lista de duplas tipo (letra, numero) e retorna uma string com cada letra repetida pelo respectivo numero\n",
        "def dic_to_str(lst):\n",
        "  new = \"\"\n",
        "  for i in lst:\n",
        "    new = new + i[0]*i[1]\n",
        "  return new\n",
        "\n",
        "dic_to_str([('a', 1), ('o', 2), ('p', 1)])\n",
        "\n",
        "def count_anagramas(words):\n",
        "  #cada palavra é associada a uma lista que conta suas letras e respectivas ocorrencias\n",
        "  words_with_counts = []\n",
        "  for w in words:\n",
        "    words_with_counts.append((w,contagem_letras(w)))\n",
        "\n",
        "  #cria uma lista das listas que foram associadas as palavras do passo anterior\n",
        "  counts = []\n",
        "  for i in range(len(words_with_counts)):\n",
        "    if words_with_counts[i][1] not in counts:\n",
        "      counts.append(words_with_counts[i][1])\n",
        "\n",
        "  #remove duplicatas de counts\n",
        "  counts_unique = []\n",
        "  for e in counts:\n",
        "    if e not in counts_unique:\n",
        "      counts_unique.append(e)\n",
        "  counts_unique.sort()\n",
        "\n",
        "  #para cada entrada de counts_unique identifica quais palavras da lista original são compativeis e registra em result\n",
        "  result = []\n",
        "  for u in counts_unique:\n",
        "    values_u = []\n",
        "    for w in words_with_counts:\n",
        "      if u == w[1]:\n",
        "        values_u.append(w[0])\n",
        "    u_str = dic_to_str(u) #aqui consideramos a string associada a u\n",
        "    result.append((u_str,values_u))\n",
        "\n",
        "  return dict(result)\n",
        "\n",
        "count_anagramas([\"bolo\", \"lobo\", \"arara\", \"arara\", \"pao\", \"opa\"])\n"
      ],
      "metadata": {
        "colab": {
          "base_uri": "https://localhost:8080/"
        },
        "id": "BVz3BK0U9mxY",
        "outputId": "df706e39-1e5e-4d18-8e24-2e49a44af98e"
      },
      "execution_count": null,
      "outputs": [
        {
          "output_type": "execute_result",
          "data": {
            "text/plain": [
              "{'aop': ['pao', 'opa'], 'aaarr': ['arara', 'arara'], 'bloo': ['bolo', 'lobo']}"
            ]
          },
          "metadata": {},
          "execution_count": 194
        }
      ]
    },
    {
      "cell_type": "code",
      "source": [
        "#Lista 01 Parte 3 Questao 2\n",
        "\n",
        "def parse_csv(text, sep=\",\"):\n",
        "  #identifica o numero de colunas do csv\n",
        "  ncol = len(text.split(\"\\n\")[1].split(sep))\n",
        "\n",
        "  #para cada coluna, identifica o header (key) e o valores a ela associados (em lista) e guarda esses pares em dctlist\n",
        "  dctlist = []\n",
        "  for col in range(ncol):\n",
        "    values_col = []\n",
        "    for row in range(len(text.split(\"\\n\"))):\n",
        "      if row == 0:\n",
        "        key_col = text.split(\"\\n\")[row].split(sep)[col]\n",
        "      else:\n",
        "        values_col.append(text.split(\"\\n\")[row].split(sep)[col])\n",
        "    dctlist.append((key_col, values_col))\n",
        "\n",
        "  #transforma dctlist em dicionario e retorna\n",
        "  return(dict(dctlist))\n",
        "\n",
        "parse_csv(\"Altura, Nome, Idade \\n 177, Pedro, 21 \\n 191, Carlos, 33 \\n 169, Alice, 23\")"
      ],
      "metadata": {
        "colab": {
          "base_uri": "https://localhost:8080/"
        },
        "id": "qQ5qm58bOJqP",
        "outputId": "a739b10b-6f89-4a1c-9bcf-cf0a3474cfa9"
      },
      "execution_count": null,
      "outputs": [
        {
          "output_type": "execute_result",
          "data": {
            "text/plain": [
              "{'Altura': [' 177', ' 191', ' 169'],\n",
              " ' Nome': [' Pedro', ' Carlos', ' Alice'],\n",
              " ' Idade ': [' 21 ', ' 33 ', ' 23']}"
            ]
          },
          "metadata": {},
          "execution_count": 13
        }
      ]
    },
    {
      "cell_type": "code",
      "source": [
        "#Lista 01 Parte 3 Questao 1\n",
        "\n",
        "#função auxiliar que pega uma matrix 3x3 e retorna maior qtd de digitos repetidos ela tem\n",
        "def validar_submatrix(mtx):\n",
        "  #percorre cada entrada da matrix e as coluna numa lista unica\n",
        "  singlelist = []\n",
        "  for i in range(len(mtx)):\n",
        "    for j in range(len(mtx)):\n",
        "      singlelist.append(mtx[i][j])\n",
        "\n",
        "  #varre cada digito, registrando sempre a maior frequencia observada em count\n",
        "  count = 0\n",
        "  for n in range(9):\n",
        "    count = max(count, singlelist.count(n+1))\n",
        "\n",
        "  return(count)\n",
        "\n",
        "#função principal, verifica se restrições de validade de uma matriz de sudoku estão atendidas\n",
        "def validar_sudoku(tabuleiro):\n",
        "\n",
        "  #transpoe o tabuleiro\n",
        "  transp_tabuleiro = transpose(tabuleiro)\n",
        "  count = 0\n",
        "\n",
        "  #varre as linhas do tabuleiro e sua transposta\n",
        "  for i in range(len(tabuleiro)):\n",
        "    # e varre cada digito, registrando sempre a maior frequencia observada em count\n",
        "    for n in range(9):\n",
        "      count = max(count, tabuleiro[i].count(n+1),transp_tabuleiro[i].count(n+1))\n",
        "\n",
        "  for j in range(3):\n",
        "    row_beg = j*3\n",
        "    row_end = (j+1)*3\n",
        "    for k in range(3):\n",
        "      col_beg = k*3\n",
        "      col_end = (k+1)+3\n",
        "      tabuleiro_jk = tabuleiro[row_beg:row_end]\n",
        "      count = max(count, validar_submatrix(tabuleiro_jk))\n",
        "\n",
        "  if count>1:\n",
        "    resposta = False\n",
        "  else:\n",
        "    resposta = True\n",
        "  return(resposta)\n",
        "\n",
        "\n",
        "tabuleiro = [\n",
        "    [5, 3, 4, 6, 7, 8, 9, 1, 2],\n",
        "    [6, 7, 2, 1, 9, 5, 3, 4, 8],\n",
        "    [1, 9, 8, 3, 4, 2, 5, 6, 7],\n",
        "    [8, 5, 9, 7, 6, 1, 4, 2, 3],\n",
        "    [4, 2, 6, 8, 5, 3, 7, 9, 1],\n",
        "    [7, 1, 3, 9, 2, 4, 8, 5, 6],\n",
        "    [9, 6, 1, 5, 3, 7, 2, 8, 4],\n",
        "    [2, 8, 7, 4, 1, 9, 6, 3, 5],\n",
        "    [3, 4, 5, 2, 8, 6, 1, 7, 9]\n",
        "]\n",
        "validar_sudoku(tabuleiro)"
      ],
      "metadata": {
        "colab": {
          "base_uri": "https://localhost:8080/"
        },
        "id": "ibZZrMWDPgBm",
        "outputId": "06d31291-0484-4459-f608-8e2cecce905b"
      },
      "execution_count": null,
      "outputs": [
        {
          "output_type": "execute_result",
          "data": {
            "text/plain": [
              "True"
            ]
          },
          "metadata": {},
          "execution_count": 50
        }
      ]
    }
  ]
}